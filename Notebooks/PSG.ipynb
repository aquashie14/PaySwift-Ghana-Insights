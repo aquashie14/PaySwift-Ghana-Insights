{
 "cells": [
  {
   "cell_type": "markdown",
   "id": "d671acdc",
   "metadata": {},
   "source": [
    "## 1. BUSINESS UNDERSTANDING\n",
    "\n",
    "#### 1.1 Business Context\n",
    "PaySwift Ghana is a growing fintech company providing:\n",
    "- Mobile payment solutions for individuals and small businesses,\n",
    "- Micro-loans and credit scoring services, and\n",
    "- Personal finance management tools, such as budgeting and expense tracking.\n",
    "\n",
    "Despite its innovative offerings, PaySwift operates in a highly competitive and cost-sensitive Ghanaian fintech market, where customer trust, user experience, and repayment discipline strongly determine long-term success. The company’s growth strategy depends on using data-driven insights to optimize product design, manage financial risk, and improve customer retention.\n",
    "\n",
    "#### 1.2 Business Problem \n",
    "Despite its innovative offerings, PaySwift faces challenges that threaten its long-term growth. The company has observed that customer engagement with new digital features such as savings goals and budgeting tools is lower than expected. Additionally, the rate of loan defaults among micro-borrowers is rising, which poses a risk to profitability and operational sustainability. Furthermore, customer retention remains a concern, as a significant proportion of users become inactive after initial registration. These challenges point to a broader need for data-driven insight to understand customer behavior, assess credit risk, and improve service adoption.\n",
    "\n",
    "#### 1.3 Business Objectives\n",
    "- Increase Feature Adoption – Identify behavioral patterns that drive or hinder the use of underutilized features and design interventions to boost engagement.\n",
    "- Reduce Loan Default Rates – Develop data-based risk profiles to predict and prevent high-risk borrowers from defaulting.\n",
    "- Improve Customer Retention – Detect churn signals early and personalize retention and re-engagement strategies.\n"
   ]
  },
  {
   "cell_type": "markdown",
   "id": "cdfeec12",
   "metadata": {},
   "source": []
  }
 ],
 "metadata": {
  "kernelspec": {
   "display_name": ".venv",
   "language": "python",
   "name": "python3"
  },
  "language_info": {
   "name": "python",
   "version": "3.13.5"
  }
 },
 "nbformat": 4,
 "nbformat_minor": 5
}
