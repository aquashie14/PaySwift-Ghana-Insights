{
 "cells": [
  {
   "cell_type": "markdown",
   "id": "d671acdc",
   "metadata": {},
   "source": [
    "## 1. BUSINESS UNDERSTANDING\n",
    "\n",
    "#### 1.1 Business Context\n",
    "PaySwift Ghana is a growing fintech company providing:\n",
    "- Mobile payment solutions for individuals and small businesses,\n",
    "- Micro-loans and credit scoring services, and\n",
    "- Personal finance management tools, such as budgeting and expense tracking.\n",
    "\n",
    "Despite its innovative offerings, PaySwift operates in a highly competitive and cost-sensitive Ghanaian fintech market, where customer trust, user experience, and repayment discipline strongly determine long-term success. The company’s growth strategy depends on using data-driven insights to optimize product design, manage financial risk, and improve customer retention.\n",
    "\n",
    "#### 1.2 Business Problem \n",
    "Despite its innovative offerings, PaySwift faces challenges that threaten its long-term growth. The company has observed that customer engagement with new digital features such as savings goals and budgeting tools is lower than expected. Additionally, the rate of loan defaults among micro-borrowers is rising, which poses a risk to profitability and operational sustainability. Furthermore, customer retention remains a concern, as a significant proportion of users become inactive after initial registration. These challenges point to a broader need for data-driven insight to understand customer behavior, assess credit risk, and improve service adoption.\n",
    "\n",
    "#### 1.3 Business Objectives\n",
    "- Increase Feature Adoption – Identify behavioral patterns that drive or hinder the use of underutilized features and design interventions to boost engagement.\n",
    "- Reduce Loan Default Rates – Develop data-based risk profiles to predict and prevent high-risk borrowers from defaulting.\n",
    "- Improve Customer Retention – Detect churn signals early and personalize retention and re-engagement strategies.\n",
    "\n",
    "#### 1.4 Key Stakeholders\n",
    "- **Product Managers** – Responsible for feature development and user experience optimization.\n",
    "- **Credut & Risk Management Team** – Oversees credit risk assessment and loan portfolio health.\n",
    "- **Marketing Team** – Focuses on customer acquisition, retention, and engagement strategies.\n",
    "- **Data Science Team** – Analyzes data to generate insights and build predictive models.\n",
    "- **Executive Leadership** – Makes strategic decisions based on data-driven insights to guide company growth.\n",
    "- **Customers** – End-users whose behavior and satisfaction directly impact business success.\n",
    "\n",
    "#### 1.5 Business Questions\n",
    "- Which customer segments show the highest and lowest adoption of PaySwift’s key features?\n",
    "- How does feature usage relate to loan repayment performance?\n",
    "- What patterns exist between transaction activity and customer churn?\n",
    "- What demographic and behavioral factors most influence loan default rates?\n",
    "- Which combination of features, age, and transaction level drives long-term customer retention?\n"
   ]
  },
  {
   "cell_type": "markdown",
   "id": "cdfeec12",
   "metadata": {},
   "source": [
    "#### 2. DATA UNDERSTANDING"
   ]
  },
  {
   "cell_type": "code",
   "execution_count": null,
   "id": "54bf100e",
   "metadata": {},
   "outputs": [],
   "source": [
    "import pandas as pd\n",
    "import numpy as np\n",
    "import matplotlib.pyplot as plt\n",
    "import seaborn as sns"
   ]
  },
  {
   "cell_type": "code",
   "execution_count": 4,
   "id": "bb83d2ef",
   "metadata": {},
   "outputs": [
    {
     "data": {
      "application/javascript": "\n        if (window._pyforest_update_imports_cell) { window._pyforest_update_imports_cell('import pandas as pd'); }\n    ",
      "text/plain": [
       "<IPython.core.display.Javascript object>"
      ]
     },
     "metadata": {},
     "output_type": "display_data"
    },
    {
     "data": {
      "text/html": [
       "<div>\n",
       "<style scoped>\n",
       "    .dataframe tbody tr th:only-of-type {\n",
       "        vertical-align: middle;\n",
       "    }\n",
       "\n",
       "    .dataframe tbody tr th {\n",
       "        vertical-align: top;\n",
       "    }\n",
       "\n",
       "    .dataframe thead th {\n",
       "        text-align: right;\n",
       "    }\n",
       "</style>\n",
       "<table border=\"1\" class=\"dataframe\">\n",
       "  <thead>\n",
       "    <tr style=\"text-align: right;\">\n",
       "      <th></th>\n",
       "      <th>User ID</th>\n",
       "      <th>Age</th>\n",
       "      <th>Loan Amount (GHS)</th>\n",
       "      <th>Repayment Status</th>\n",
       "      <th>Feature Used Most</th>\n",
       "      <th>Monthly Transactions</th>\n",
       "      <th>Churned?</th>\n",
       "      <th>Default Risk (1-5)</th>\n",
       "    </tr>\n",
       "  </thead>\n",
       "  <tbody>\n",
       "    <tr>\n",
       "      <th>0</th>\n",
       "      <td>1001</td>\n",
       "      <td>28</td>\n",
       "      <td>2000</td>\n",
       "      <td>Late Payment</td>\n",
       "      <td>Mobile Payments</td>\n",
       "      <td>12</td>\n",
       "      <td>No</td>\n",
       "      <td>4</td>\n",
       "    </tr>\n",
       "    <tr>\n",
       "      <th>1</th>\n",
       "      <td>1002</td>\n",
       "      <td>35</td>\n",
       "      <td>5000</td>\n",
       "      <td>On-Time</td>\n",
       "      <td>Budgeting Tool</td>\n",
       "      <td>25</td>\n",
       "      <td>No</td>\n",
       "      <td>1</td>\n",
       "    </tr>\n",
       "    <tr>\n",
       "      <th>2</th>\n",
       "      <td>1003</td>\n",
       "      <td>22</td>\n",
       "      <td>1000</td>\n",
       "      <td>Defaulted</td>\n",
       "      <td>Loan Services</td>\n",
       "      <td>5</td>\n",
       "      <td>Yes</td>\n",
       "      <td>5</td>\n",
       "    </tr>\n",
       "    <tr>\n",
       "      <th>3</th>\n",
       "      <td>1004</td>\n",
       "      <td>40</td>\n",
       "      <td>3500</td>\n",
       "      <td>On-Time</td>\n",
       "      <td>Savings Tracker</td>\n",
       "      <td>18</td>\n",
       "      <td>No</td>\n",
       "      <td>2</td>\n",
       "    </tr>\n",
       "    <tr>\n",
       "      <th>4</th>\n",
       "      <td>1005</td>\n",
       "      <td>30</td>\n",
       "      <td>4000</td>\n",
       "      <td>Late Payment</td>\n",
       "      <td>Investment Advice</td>\n",
       "      <td>9</td>\n",
       "      <td>Yes</td>\n",
       "      <td>3</td>\n",
       "    </tr>\n",
       "  </tbody>\n",
       "</table>\n",
       "</div>"
      ],
      "text/plain": [
       "   User ID  Age  ...  Churned? Default Risk (1-5)\n",
       "0     1001   28  ...        No                  4\n",
       "1     1002   35  ...        No                  1\n",
       "2     1003   22  ...       Yes                  5\n",
       "3     1004   40  ...        No                  2\n",
       "4     1005   30  ...       Yes                  3\n",
       "\n",
       "[5 rows x 8 columns]"
      ]
     },
     "execution_count": 4,
     "metadata": {},
     "output_type": "execute_result"
    }
   ],
   "source": [
    "#Load the dataset\n",
    "payswift_data = pd.read_csv('../Data/PaySwift.csv')\n",
    "\n",
    "payswift_data.head()"
   ]
  },
  {
   "cell_type": "code",
   "execution_count": 7,
   "id": "324f5434",
   "metadata": {},
   "outputs": [
    {
     "name": "stdout",
     "output_type": "stream",
     "text": [
      "The number of rows and columns: (100, 8)\n",
      "<class 'pandas.core.frame.DataFrame'>\n",
      "RangeIndex: 100 entries, 0 to 99\n",
      "Data columns (total 8 columns):\n",
      " #   Column                Non-Null Count  Dtype \n",
      "---  ------                --------------  ----- \n",
      " 0   User ID               100 non-null    int64 \n",
      " 1   Age                   100 non-null    int64 \n",
      " 2   Loan Amount (GHS)     100 non-null    int64 \n",
      " 3   Repayment Status      99 non-null     object\n",
      " 4   Feature Used Most     84 non-null     object\n",
      " 5   Monthly Transactions  100 non-null    int64 \n",
      " 6   Churned?              100 non-null    object\n",
      " 7   Default Risk (1-5)    100 non-null    int64 \n",
      "dtypes: int64(5), object(3)\n",
      "memory usage: 6.4+ KB\n"
     ]
    }
   ],
   "source": [
    "#Inspect the data types and missing values\n",
    "print(\"The number of rows and columns:\", payswift_data.shape)\n",
    "\n",
    "payswift_data.info()\n"
   ]
  },
  {
   "cell_type": "code",
   "execution_count": 10,
   "id": "2f37f953",
   "metadata": {},
   "outputs": [
    {
     "name": "stdout",
     "output_type": "stream",
     "text": [
      "Number of duplicate rows: 0\n",
      "Number of duplicate columns: 0\n"
     ]
    }
   ],
   "source": [
    "#Check for duplicates rows and columns\n",
    "duplicated_rowa = payswift_data.duplicated().sum()\n",
    "print(\"Number of duplicate rows:\", duplicated_rowa)\n",
    "\n",
    "duplicated_columns = payswift_data.duplicated().T.sum()\n",
    "print(\"Number of duplicate columns:\", duplicated_columns)\n",
    "\n"
   ]
  },
  {
   "cell_type": "code",
   "execution_count": 9,
   "id": "602beed1",
   "metadata": {},
   "outputs": [
    {
     "name": "stdout",
     "output_type": "stream",
     "text": [
      "Missing values in each column:\n",
      " User ID                  0\n",
      "Age                      0\n",
      "Loan Amount (GHS)        0\n",
      "Repayment Status         1\n",
      "Feature Used Most       16\n",
      "Monthly Transactions     0\n",
      "Churned?                 0\n",
      "Default Risk (1-5)       0\n",
      "dtype: int64\n"
     ]
    }
   ],
   "source": [
    "#check for missing values\n",
    "missing_values = payswift_data.isnull().sum()\n",
    "print(\"Missing values in each column:\\n\", missing_values)"
   ]
  },
  {
   "cell_type": "code",
   "execution_count": 14,
   "id": "7902484d",
   "metadata": {},
   "outputs": [],
   "source": [
    "#Change data types if necessary\n",
    "# changing User_ID to string\n",
    "payswift_data['User ID'] = payswift_data['User ID'].astype(str)"
   ]
  },
  {
   "cell_type": "code",
   "execution_count": 15,
   "id": "74e374ad",
   "metadata": {},
   "outputs": [
    {
     "name": "stdout",
     "output_type": "stream",
     "text": [
      "<class 'pandas.core.frame.DataFrame'>\n",
      "RangeIndex: 100 entries, 0 to 99\n",
      "Data columns (total 8 columns):\n",
      " #   Column                Non-Null Count  Dtype \n",
      "---  ------                --------------  ----- \n",
      " 0   User ID               100 non-null    object\n",
      " 1   Age                   100 non-null    int64 \n",
      " 2   Loan Amount (GHS)     100 non-null    int64 \n",
      " 3   Repayment Status      99 non-null     object\n",
      " 4   Feature Used Most     84 non-null     object\n",
      " 5   Monthly Transactions  100 non-null    int64 \n",
      " 6   Churned?              100 non-null    object\n",
      " 7   Default Risk (1-5)    100 non-null    int64 \n",
      "dtypes: int64(4), object(4)\n",
      "memory usage: 6.4+ KB\n"
     ]
    }
   ],
   "source": [
    "payswift_data.info()"
   ]
  },
  {
   "cell_type": "code",
   "execution_count": 16,
   "id": "7bf4ffcd",
   "metadata": {},
   "outputs": [
    {
     "data": {
      "text/html": [
       "<div>\n",
       "<style scoped>\n",
       "    .dataframe tbody tr th:only-of-type {\n",
       "        vertical-align: middle;\n",
       "    }\n",
       "\n",
       "    .dataframe tbody tr th {\n",
       "        vertical-align: top;\n",
       "    }\n",
       "\n",
       "    .dataframe thead th {\n",
       "        text-align: right;\n",
       "    }\n",
       "</style>\n",
       "<table border=\"1\" class=\"dataframe\">\n",
       "  <thead>\n",
       "    <tr style=\"text-align: right;\">\n",
       "      <th></th>\n",
       "      <th>Age</th>\n",
       "      <th>Loan Amount (GHS)</th>\n",
       "      <th>Monthly Transactions</th>\n",
       "      <th>Default Risk (1-5)</th>\n",
       "    </tr>\n",
       "  </thead>\n",
       "  <tbody>\n",
       "    <tr>\n",
       "      <th>count</th>\n",
       "      <td>100.00</td>\n",
       "      <td>100.0</td>\n",
       "      <td>100.00</td>\n",
       "      <td>100.00</td>\n",
       "    </tr>\n",
       "    <tr>\n",
       "      <th>mean</th>\n",
       "      <td>33.17</td>\n",
       "      <td>3432.5</td>\n",
       "      <td>12.52</td>\n",
       "      <td>3.28</td>\n",
       "    </tr>\n",
       "    <tr>\n",
       "      <th>std</th>\n",
       "      <td>8.66</td>\n",
       "      <td>2048.7</td>\n",
       "      <td>8.20</td>\n",
       "      <td>1.48</td>\n",
       "    </tr>\n",
       "    <tr>\n",
       "      <th>min</th>\n",
       "      <td>19.00</td>\n",
       "      <td>800.0</td>\n",
       "      <td>1.00</td>\n",
       "      <td>1.00</td>\n",
       "    </tr>\n",
       "    <tr>\n",
       "      <th>25%</th>\n",
       "      <td>26.00</td>\n",
       "      <td>1537.5</td>\n",
       "      <td>5.75</td>\n",
       "      <td>2.00</td>\n",
       "    </tr>\n",
       "    <tr>\n",
       "      <th>50%</th>\n",
       "      <td>32.50</td>\n",
       "      <td>3150.0</td>\n",
       "      <td>11.00</td>\n",
       "      <td>3.00</td>\n",
       "    </tr>\n",
       "    <tr>\n",
       "      <th>75%</th>\n",
       "      <td>40.00</td>\n",
       "      <td>4825.0</td>\n",
       "      <td>19.00</td>\n",
       "      <td>5.00</td>\n",
       "    </tr>\n",
       "    <tr>\n",
       "      <th>max</th>\n",
       "      <td>50.00</td>\n",
       "      <td>8000.0</td>\n",
       "      <td>30.00</td>\n",
       "      <td>5.00</td>\n",
       "    </tr>\n",
       "  </tbody>\n",
       "</table>\n",
       "</div>"
      ],
      "text/plain": [
       "          Age  Loan Amount (GHS)  Monthly Transactions  Default Risk (1-5)\n",
       "count  100.00              100.0                100.00              100.00\n",
       "mean    33.17             3432.5                 12.52                3.28\n",
       "std      8.66             2048.7                  8.20                1.48\n",
       "min     19.00              800.0                  1.00                1.00\n",
       "25%     26.00             1537.5                  5.75                2.00\n",
       "50%     32.50             3150.0                 11.00                3.00\n",
       "75%     40.00             4825.0                 19.00                5.00\n",
       "max     50.00             8000.0                 30.00                5.00"
      ]
     },
     "execution_count": 16,
     "metadata": {},
     "output_type": "execute_result"
    }
   ],
   "source": [
    "#initial data exploration\n",
    "payswift_data.describe().round(2)"
   ]
  },
  {
   "cell_type": "code",
   "execution_count": 17,
   "id": "082e6045",
   "metadata": {},
   "outputs": [
    {
     "name": "stdout",
     "output_type": "stream",
     "text": [
      "Categorical Column Statistics:\n",
      "\n",
      "       User ID Repayment Status Feature Used Most Churned?\n",
      "count      100               99                84      100\n",
      "unique     100                3                 5        2\n",
      "top       1001          On-Time   Mobile Payments       No\n",
      "freq         1               34                17       66\n",
      "\n",
      "Detailed value counts for each categorical column:\n",
      "\n",
      "\n",
      "Value counts for User ID:\n",
      "User ID\n",
      "1001    1\n",
      "1002    1\n",
      "1003    1\n",
      "1004    1\n",
      "1005    1\n",
      "       ..\n",
      "1096    1\n",
      "1097    1\n",
      "1098    1\n",
      "1099    1\n",
      "1100    1\n",
      "Name: count, Length: 100, dtype: int64\n",
      "Unique values: 100\n",
      "--------------------------------------------------\n",
      "\n",
      "Value counts for Repayment Status:\n",
      "Repayment Status\n",
      "On-Time         34\n",
      "Late Payment    33\n",
      "Defaulted       32\n",
      "Name: count, dtype: int64\n",
      "Unique values: 3\n",
      "--------------------------------------------------\n",
      "\n",
      "Value counts for Feature Used Most:\n",
      "Feature Used Most\n",
      "Mobile Payments      17\n",
      "Budgeting Tool       17\n",
      "Loan Services        17\n",
      "Savings Tracker      17\n",
      "Investment Advice    16\n",
      "Name: count, dtype: int64\n",
      "Unique values: 5\n",
      "--------------------------------------------------\n",
      "\n",
      "Value counts for Churned?:\n",
      "Churned?\n",
      "No     66\n",
      "Yes    34\n",
      "Name: count, dtype: int64\n",
      "Unique values: 2\n",
      "--------------------------------------------------\n"
     ]
    }
   ],
   "source": [
    "# Get summary statistics for categorical columns\n",
    "categorical_stats = payswift_data.describe(include='object')\n",
    "print(\"Categorical Column Statistics:\\n\")\n",
    "print(categorical_stats)\n",
    "\n",
    "# Get value counts for each categorical column\n",
    "print(\"\\nDetailed value counts for each categorical column:\\n\")\n",
    "for column in payswift_data.select_dtypes(include=['object']).columns:\n",
    "    print(f\"\\nValue counts for {column}:\")\n",
    "    print(payswift_data[column].value_counts())\n",
    "    print(f\"Unique values: {payswift_data[column].nunique()}\")\n",
    "    print(\"-\" * 50)"
   ]
  },
  {
   "cell_type": "code",
   "execution_count": null,
   "id": "84412166",
   "metadata": {},
   "outputs": [],
   "source": []
  }
 ],
 "metadata": {
  "kernelspec": {
   "display_name": ".venv",
   "language": "python",
   "name": "python3"
  },
  "language_info": {
   "codemirror_mode": {
    "name": "ipython",
    "version": 3
   },
   "file_extension": ".py",
   "mimetype": "text/x-python",
   "name": "python",
   "nbconvert_exporter": "python",
   "pygments_lexer": "ipython3",
   "version": "3.13.5"
  }
 },
 "nbformat": 4,
 "nbformat_minor": 5
}
